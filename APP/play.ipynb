{
 "cells": [
  {
   "cell_type": "code",
   "id": "initial_id",
   "metadata": {
    "collapsed": true,
    "ExecuteTime": {
     "end_time": "2024-12-17T02:06:26.667959Z",
     "start_time": "2024-12-17T02:06:26.659986Z"
    }
   },
   "source": [
    "import cv2\n",
    "from PIL import Image, ImageTk\n",
    "import time\n",
    "import base64\n",
    "import pyttsx3\n",
    "import base64\n",
    "import urllib\n",
    "import requests\n",
    "import os\n",
    "import json\n",
    "def get_access_token(key,scret):\n",
    "    \"\"\"\n",
    "    使用 AK,SK 生成鉴权签名{Access Token)\n",
    "    :return: access_token,或是None(如果错误)\n",
    "    \"\"\"\n",
    "    url = \"https://aip.baidubce.com/oauth/2.0/token\"\n",
    "    params = {\"grant_type\": \"client_credentials\", \"client_id\": key, \"client_secret\": scret}\n",
    "    return str(requests.post(url, params=params).json().get(\"access_token\"))\n",
    " \n",
    "def show_cam_image():\n",
    "    try:\n",
    "        # 尝试打开摄像头\n",
    "        stream = cv2.VideoCapture(0)\n",
    "        \n",
    "        # 检查是否成功打开\n",
    "        if not stream.isOpened():\n",
    "            print(\"未成功打开摄像头\")\n",
    "            return\n",
    " \n",
    "        # 读取一帧图像\n",
    "        ret, frame = stream.read()\n",
    "        \n",
    "        # 如果成功读取帧\n",
    "        if ret:\n",
    " \n",
    "            # 保存图片\n",
    "            image_path = \"./camera.jpeg\"\n",
    "            cv2.imwrite(image_path, frame)\n",
    " \n",
    "            # 将帧从BGR转换为RGB\n",
    "            rgb_frame = cv2.cvtColor(frame, cv2.COLOR_BGR2RGB)\n",
    " \n",
    "            # 将帧编码为JPEG格式\n",
    "            jpeg_frame = cv2.imencode('.jpg', rgb_frame)[1]\n",
    " \n",
    "            # 将JPEG格式的帧转换为Base64编码\n",
    "            base64_encoded_frame = base64.b64encode(jpeg_frame).decode('utf-8')\n",
    " \n",
    "            return base64_encoded_frame\n",
    "        else:\n",
    "            print(\"未能读取到图像帧\")\n",
    "    \n",
    "    except Exception as e:\n",
    "        print(f\"摄像头操作出错：{e}\")\n",
    "    finally:\n",
    "        # 确保释放摄像头资源\n",
    "        stream.release()\n",
    " \n",
    "def ask_to_question():\n",
    "    Image_API_KEY = \"RyDKwjd6WRSnkHSbgPRCYsoR\"\n",
    "    Image_SECRET_KEY = \"ojEMkI5lP8Tvv9zVUj2UuJnGpkskMUb2\"\n",
    "    url_1 = \"https://aip.baidubce.com/rest/2.0/image-classify/v1/image-understanding/request?access_token=\" + get_access_token(Image_API_KEY,Image_SECRET_KEY)\n",
    "    \n",
    "    #本地图像\n",
    "    # image_data = get_file_content_as_base64(\"/home/lxj/chat/水果.jpeg\")\n",
    "    #相机图像\n",
    "    image_data = show_cam_image()\n",
    " \n",
    "    payload = json.dumps({\n",
    "        \"image\": image_data,\n",
    "        \"question\": \"图像中有什么\",\n",
    "        \"output_CHN\": True\n",
    "    })\n",
    "    headers = {\n",
    "        'Content-Type': 'application/json'\n",
    "    }\n",
    "    \n",
    "    response = requests.request(\"POST\", url_1, headers=headers, data=payload)\n",
    "    response_json = response.json()  # 将响应文本解析为JSON对象\n",
    "    result = response_json.get(\"result\") # 提取result字段,'task_id'里面的值\n",
    " \n",
    "    return result"
   ],
   "outputs": [],
   "execution_count": 12
  },
  {
   "metadata": {
    "ExecuteTime": {
     "end_time": "2024-12-17T02:06:31.118875Z",
     "start_time": "2024-12-17T02:06:26.898171Z"
    }
   },
   "cell_type": "code",
   "source": "result = ask_to_question()",
   "id": "43d39eaf246d55b2",
   "outputs": [],
   "execution_count": 13
  },
  {
   "metadata": {
    "ExecuteTime": {
     "end_time": "2024-12-17T02:06:31.134866Z",
     "start_time": "2024-12-17T02:06:31.120910Z"
    }
   },
   "cell_type": "code",
   "source": "result",
   "id": "c92797c9f248eaad",
   "outputs": [
    {
     "data": {
      "text/plain": [
       "{'task_id': '1868840160638056920'}"
      ]
     },
     "execution_count": 14,
     "metadata": {},
     "output_type": "execute_result"
    }
   ],
   "execution_count": 14
  },
  {
   "metadata": {
    "ExecuteTime": {
     "end_time": "2024-12-17T02:23:16.079275Z",
     "start_time": "2024-12-17T02:23:15.777158Z"
    }
   },
   "cell_type": "code",
   "source": [
    "import requests\n",
    "import json\n",
    " \n",
    " \n",
    "def main():\n",
    "    url = \"https://aip.baidubce.com/oauth/2.0/token?client_id=OXyF2ovE3sWHhLoyES2Hfqzo&client_secret=alVFp8mzFt1INUNGRbq9q0VZ44zjxDGZ&grant_type=client_credentials\"\n",
    " \n",
    "    payload = \"\"\n",
    "    headers = {\n",
    "        'Content-Type': 'application/json',\n",
    "        'Accept': 'application/json'\n",
    "    }\n",
    " \n",
    "    response = requests.request(\"POST\", url, headers=headers, data=payload)\n",
    " \n",
    "    print(response.text)\n",
    "    print(response.json()['access_token'])\n",
    " \n",
    "if __name__ == '__main__':\n",
    "    main()"
   ],
   "id": "d023bbbab61903b5",
   "outputs": [
    {
     "name": "stdout",
     "output_type": "stream",
     "text": [
      "{\"refresh_token\":\"25.13481a2c757bc77e1b560eb3e27a0948.315360000.2049762196.282335-116707290\",\"expires_in\":2592000,\"session_key\":\"9mzdAva1VxTYf27HV1d+VJ1eeJcV7PMTMVgf1rbUB9QGsdzX4NNua+pzapNio0Y95SiHhz5wUUI3IhnJQlsAkO\\/hx6OaJ0w=\",\"access_token\":\"24.94c61bfbba3a02d7ebce8aa13c292e03.2592000.1736994196.282335-116707290\",\"scope\":\"public vis-classify_dishes vis-classify_car brain_all_scope vis-classify_animal vis-classify_plant brain_object_detect brain_realtime_logo brain_dish_detect brain_car_detect brain_animal_classify brain_plant_classify brain_ingredient brain_poi_recognize brain_advanced_general_classify brain_vehicle_detect brain_multi_ object_detect brain_image_understanding brain_image_understanding_get wise_adapt lebo_resource_base lightservice_public hetu_basic lightcms_map_poi kaidian_kaidian ApsMisTest_Test\\u6743\\u9650 vis-classify_flower lpq_\\u5f00\\u653e cop_helloScope ApsMis_fangdi_permission smartapp_snsapi_base smartapp_mapp_dev_manage iop_autocar oauth_tp_app smartapp_smart_game_openapi oauth_sessionkey smartapp_swanid_verify smartapp_opensource_openapi smartapp_opensource_recapi fake_face_detect_\\u5f00\\u653eScope vis-ocr_\\u865a\\u62df\\u4eba\\u7269\\u52a9\\u7406 idl-video_\\u865a\\u62df\\u4eba\\u7269\\u52a9\\u7406 smartapp_component smartapp_search_plugin avatar_video_test b2b_tp_openapi b2b_tp_openapi_online smartapp_gov_aladin_to_xcx\",\"session_secret\":\"e62010b274aa2d0f4563ec69e139bfb9\"}\n",
      "\n",
      "24.94c61bfbba3a02d7ebce8aa13c292e03.2592000.1736994196.282335-116707290\n"
     ]
    }
   ],
   "execution_count": 23
  },
  {
   "metadata": {
    "ExecuteTime": {
     "end_time": "2024-12-17T02:24:01.712411Z",
     "start_time": "2024-12-17T02:24:00.938048Z"
    }
   },
   "cell_type": "code",
   "source": [
    "import base64\n",
    "import urllib\n",
    "import requests\n",
    "import os\n",
    " \n",
    "def main():\n",
    "    #从鉴权人证获取access_token\n",
    "    url = \"https://aip.baidubce.com/rest/2.0/ocr/v1/general_basic?access_token=24.fadcc6322c80936539bd3c351e346528.2592000.1736993885.282335-116707290\"\n",
    "    img=get_file_content_as_base64(r'F:\\junior\\AI\\实践步\\Blind_Helper\\Blind_Helper\\a.jpg')\n",
    "    payload = {\"image\":img}\n",
    "    headers = {\n",
    "        'Content-Type': 'application/x-www-form-urlencoded',\n",
    "        'Accept': 'application/json'\n",
    "    }\n",
    "    response = requests.request(\"POST\", url, headers=headers, data=payload)\n",
    "    print(response.text)\n",
    "def get_file_content_as_base64(path, urlencoded=False):\n",
    "    \"\"\"\n",
    "    获取文件base64编码\n",
    "    :param path: 文件路径\n",
    "    :param urlencoded: 是否对结果进行urlencoded\n",
    "    :return: base64编码信息\n",
    "    \"\"\"\n",
    "    with open(path, \"rb\") as f:\n",
    "        content = base64.b64encode(f.read()).decode('utf-8')\n",
    "        if urlencoded:\n",
    "            content = urllib.parse.quote_plus(content)\n",
    "    return content\n",
    " \n",
    " \n",
    "if __name__ == '__main__':\n",
    "    main()"
   ],
   "id": "c520747156cea9ee",
   "outputs": [
    {
     "name": "stdout",
     "output_type": "stream",
     "text": [
      "{\"words_result\":[{\"words\":\"44\"},{\"words\":\"@汕头吃喝玩乐\"},{\"words\":\"@DuPuffie\"}],\"words_result_num\":3,\"log_id\":1868844571616783485}\n"
     ]
    }
   ],
   "execution_count": 25
  },
  {
   "metadata": {
    "ExecuteTime": {
     "end_time": "2024-12-17T02:30:18.870113Z",
     "start_time": "2024-12-17T02:30:18.865113Z"
    }
   },
   "cell_type": "code",
   "source": [
    "def get_access_token(key,scret):\n",
    "    \"\"\"\n",
    "    使用 AK,SK 生成鉴权签名{Access Token)\n",
    "    :return: access_token,或是None(如果错误)\n",
    "    \"\"\"\n",
    "    url = \"https://aip.baidubce.com/oauth/2.0/token\"\n",
    "    params = {\"grant_type\": \"client_credentials\", \"client_id\": key, \"client_secret\": scret}\n",
    "    return str(requests.post(url, params=params).json().get(\"access_token\"))\n",
    " \n",
    "def show_cam_image():\n",
    "    try:\n",
    "        # 尝试打开摄像头\n",
    "        stream = cv2.VideoCapture(0)\n",
    "        \n",
    "        # 检查是否成功打开\n",
    "        if not stream.isOpened():\n",
    "            print(\"未成功打开摄像头\")\n",
    "            return\n",
    " \n",
    "        # 读取一帧图像\n",
    "        ret, frame = stream.read()\n",
    "        \n",
    "        # 如果成功读取帧\n",
    "        if ret:\n",
    " \n",
    "            # 保存图片\n",
    "            image_path = \"/home/lxj/chat_robot/camera.jpeg\"\n",
    "            cv2.imwrite(image_path, frame)\n",
    " \n",
    "            # 将帧从BGR转换为RGB\n",
    "            rgb_frame = cv2.cvtColor(frame, cv2.COLOR_BGR2RGB)\n",
    " \n",
    "            # 将帧编码为JPEG格式\n",
    "            jpeg_frame = cv2.imencode('.jpg', rgb_frame)[1]\n",
    " \n",
    "            # 将JPEG格式的帧转换为Base64编码\n",
    "            base64_encoded_frame = base64.b64encode(jpeg_frame).decode('utf-8')\n",
    " \n",
    "            return base64_encoded_frame\n",
    "        else:\n",
    "            print(\"未能读取到图像帧\")\n",
    "    \n",
    "    except Exception as e:\n",
    "        print(f\"摄像头操作出错：{e}\")\n",
    "    finally:\n",
    "        # 确保释放摄像头资源\n",
    "        stream.release()\n",
    " \n",
    "def ask_to_question():\n",
    "    url_1 = \"https://aip.baidubce.com/rest/2.0/image-classify/v1/image-understanding/request?access_token=24.94c61bfbba3a02d7ebce8aa13c292e03.2592000.1736994196.282335-116707290\" \n",
    "    #本地图像\n",
    "    # image_data = get_file_content_as_base64(\"/home/lxj/chat/水果.jpeg\")\n",
    "    #相机图像\n",
    "    image_data = show_cam_image()\n",
    " \n",
    "    payload = json.dumps({\n",
    "        \"image\": image_data,\n",
    "        \"question\": \"图像中有什么\",\n",
    "        \"output_CHN\": True\n",
    "    })\n",
    "    headers = {\n",
    "        'Content-Type': 'application/json'\n",
    "    }\n",
    "    \n",
    "    response = requests.request(\"POST\", url_1, headers=headers, data=payload)\n",
    "    response_json = response.json()  # 将响应文本解析为JSON对象\n",
    "    result = response_json.get(\"result\")['task_id'] # 提取result字段,'task_id'里面的值\n",
    " \n",
    "    return result"
   ],
   "id": "5f01837ed2a9585c",
   "outputs": [],
   "execution_count": 29
  },
  {
   "metadata": {
    "ExecuteTime": {
     "end_time": "2024-12-17T02:30:27.998872Z",
     "start_time": "2024-12-17T02:30:24.033730Z"
    }
   },
   "cell_type": "code",
   "source": "ask_to_question()",
   "id": "8156bde770b15125",
   "outputs": [
    {
     "data": {
      "text/plain": [
       "'1868846188674783562'"
      ]
     },
     "execution_count": 30,
     "metadata": {},
     "output_type": "execute_result"
    }
   ],
   "execution_count": 30
  },
  {
   "metadata": {
    "ExecuteTime": {
     "end_time": "2024-12-17T02:30:41.352651Z",
     "start_time": "2024-12-17T02:30:41.333101Z"
    }
   },
   "cell_type": "code",
   "source": [
    "def get_result():\n",
    "# 构建URL\n",
    "        url_2 = \"https://aip.baidubce.com/rest/2.0/image-classify/v1/image-understanding/get-result?access_token=24.94c61bfbba3a02d7ebce8aa13c292e03.2592000.1736994196.282335-116707290\"\n",
    "        # 构建payload，使用提取到的task_id\n",
    "        payload = json.dumps({\n",
    "            \"task_id\": \"1868846188674783562\"\n",
    "        })\n",
    "        headers = {\n",
    "            'Content-Type': 'application/json'\n",
    "        }\n",
    "        \n",
    "        response = requests.request(\"POST\", url_2, headers=headers, data=payload)\n",
    "        response_json = response.json()  # 将响应文本解析为JSON对象\n",
    " \n",
    "        # 提取字段的值\n",
    "        subject_result = response_json.get('result', {}).get('subject_result', [])\n",
    "        description = response_json.get('result', {}).get('description', [])\n",
    "        # 打印提取的结果\n",
    "        print(subject_result)\n",
    "        print(\"图片描述:\", description)"
   ],
   "id": "c5585c1740198683",
   "outputs": [],
   "execution_count": 31
  },
  {
   "metadata": {
    "ExecuteTime": {
     "end_time": "2024-12-17T02:30:43.577990Z",
     "start_time": "2024-12-17T02:30:43.246318Z"
    }
   },
   "cell_type": "code",
   "source": "get_result()",
   "id": "7f4b5b13ff849bbc",
   "outputs": [
    {
     "name": "stdout",
     "output_type": "stream",
     "text": [
      "[]\n",
      "图片描述: 图像中有一位戴着眼镜的亚洲男性，他正坐在室内，背景中隐约可见其他人和窗户，整个场景营造出一种安静而专注的氛围。\n"
     ]
    }
   ],
   "execution_count": 32
  },
  {
   "metadata": {},
   "cell_type": "code",
   "outputs": [],
   "execution_count": null,
   "source": "",
   "id": "e1f24fe010097135"
  }
 ],
 "metadata": {
  "kernelspec": {
   "display_name": "Python 3",
   "language": "python",
   "name": "python3"
  },
  "language_info": {
   "codemirror_mode": {
    "name": "ipython",
    "version": 2
   },
   "file_extension": ".py",
   "mimetype": "text/x-python",
   "name": "python",
   "nbconvert_exporter": "python",
   "pygments_lexer": "ipython2",
   "version": "2.7.6"
  }
 },
 "nbformat": 4,
 "nbformat_minor": 5
}
