{
 "cells": [
  {
   "cell_type": "code",
   "id": "initial_id",
   "metadata": {
    "collapsed": true,
    "ExecuteTime": {
     "end_time": "2024-12-18T12:21:48.216253Z",
     "start_time": "2024-12-18T12:21:48.210231Z"
    }
   },
   "source": [
    "import cv2\n",
    "from PIL import Image, ImageTk\n",
    "import time\n",
    "import base64\n",
    "import pyttsx3\n",
    "import base64\n",
    "import urllib\n",
    "import requests\n",
    "import os\n",
    "import json\n",
    "def get_result():\n",
    "# 构建URL\n",
    "        url_2 = \"https://aip.baidubce.com/rest/2.0/image-classify/v1/image-understanding/get-result?access_token=24.94c61bfbba3a02d7ebce8aa13c292e03.2592000.1736994196.282335-116707290\"\n",
    "        # 构建payload，使用提取到的task_id\n",
    "        payload = json.dumps({\n",
    "            \"task_id\": \"1869352704364691115\"\n",
    "        })\n",
    "        headers = {\n",
    "            'Content-Type': 'application/json'\n",
    "        }\n",
    "        \n",
    "        response = requests.request(\"POST\", url_2, headers=headers, data=payload)\n",
    "        response_json = response.json()  # 将响应文本解析为JSON对象\n",
    " \n",
    "        # 提取字段的值\n",
    "        subject_result = response_json.get('result', {}).get('subject_result', [])\n",
    "        description = response_json.get('result', {}).get('description', [])\n",
    "        # 打印提取的结果\n",
    "        print(subject_result)\n",
    "        print(\"图片描述:\", description)"
   ],
   "outputs": [],
   "execution_count": 25
  },
  {
   "metadata": {
    "ExecuteTime": {
     "end_time": "2024-12-18T12:21:49.375817Z",
     "start_time": "2024-12-18T12:21:48.431278Z"
    }
   },
   "cell_type": "code",
   "source": "get_result()",
   "id": "917dbfe8ae1cc416",
   "outputs": [
    {
     "name": "stdout",
     "output_type": "stream",
     "text": [
      "[]\n",
      "图片描述: 图像中有一位戴着眼镜的年轻人，他穿着紫色T恤，正坐在一个充满生活气息的房间里。房间内挂满了各式各样的衣物，墙上还装饰着一幅画，为整个空间增添了几分艺术氛围。\n"
     ]
    }
   ],
   "execution_count": 26
  },
  {
   "metadata": {
    "ExecuteTime": {
     "end_time": "2024-12-18T12:27:19.930923Z",
     "start_time": "2024-12-18T12:27:18.163001Z"
    }
   },
   "cell_type": "code",
   "source": [
    "taskid = 1869352704364691115\n",
    "import cv2\n",
    "from PIL import Image, ImageTk\n",
    "import time\n",
    "import base64\n",
    "import pyttsx3\n",
    "import base64\n",
    "import urllib\n",
    "import requests\n",
    "import os\n",
    "import json\n",
    "def get_result(taskid):\n",
    "# 构建URL\n",
    "        url_2 = \"https://aip.baidubce.com/rest/2.0/image-classify/v1/image-understanding/get-result?access_token=24.94c61bfbba3a02d7ebce8aa13c292e03.2592000.1736994196.282335-116707290\"\n",
    "        # 构建payload，使用提取到的task_id\n",
    "        payload = json.dumps({\n",
    "            \"task_id\": str(taskid)\n",
    "        })\n",
    "        headers = {\n",
    "            'Content-Type': 'application/json'\n",
    "        }\n",
    "        \n",
    "        response = requests.request(\"POST\", url_2, headers=headers, data=payload)\n",
    "        response_json = response.json()  # 将响应文本解析为JSON对象\n",
    " \n",
    "        # 提取字段的值\n",
    "        subject_result = response_json.get('result', {}).get('subject_result', [])\n",
    "        description = response_json.get('result', {}).get('description', [])\n",
    "        # 打印提取的结果\n",
    "        print(subject_result)\n",
    "        print(\"图片描述:\", description)\n",
    "get_result(taskid)"
   ],
   "id": "f897cb509019e0bf",
   "outputs": [
    {
     "name": "stdout",
     "output_type": "stream",
     "text": [
      "[]\n",
      "图片描述: 图像中有一位戴着眼镜的年轻人，他穿着紫色T恤，正坐在一个充满生活气息的房间里。房间内挂满了各式各样的衣物，墙上还装饰着一幅画，为整个空间增添了几分艺术氛围。\n"
     ]
    }
   ],
   "execution_count": 29
  },
  {
   "metadata": {
    "ExecuteTime": {
     "end_time": "2024-12-18T12:21:51.129252Z",
     "start_time": "2024-12-18T12:21:50.378445Z"
    }
   },
   "cell_type": "code",
   "source": "get_result(taskid)",
   "id": "45ac182fef531692",
   "outputs": [
    {
     "name": "stdout",
     "output_type": "stream",
     "text": [
      "[]\n",
      "图片描述: 图像中有一位戴着眼镜的年轻人，他穿着紫色T恤，正坐在一个充满生活气息的房间里。房间内挂满了各式各样的衣物，墙上还装饰着一幅画，为整个空间增添了几分艺术氛围。\n"
     ]
    }
   ],
   "execution_count": 28
  },
  {
   "metadata": {
    "ExecuteTime": {
     "end_time": "2024-12-18T12:08:13.582444Z",
     "start_time": "2024-12-18T12:08:13.565932Z"
    }
   },
   "cell_type": "code",
   "source": "taskid.dtype()",
   "id": "336293c3de2f648e",
   "outputs": [
    {
     "ename": "AttributeError",
     "evalue": "'int' object has no attribute 'dtype'",
     "output_type": "error",
     "traceback": [
      "\u001B[1;31m---------------------------------------------------------------------------\u001B[0m",
      "\u001B[1;31mAttributeError\u001B[0m                            Traceback (most recent call last)",
      "\u001B[1;32m<ipython-input-11-83c2aeba8eec>\u001B[0m in \u001B[0;36m<module>\u001B[1;34m\u001B[0m\n\u001B[1;32m----> 1\u001B[1;33m \u001B[0mtaskid\u001B[0m\u001B[1;33m.\u001B[0m\u001B[0mdtype\u001B[0m\u001B[1;33m(\u001B[0m\u001B[1;33m)\u001B[0m\u001B[1;33m\u001B[0m\u001B[1;33m\u001B[0m\u001B[0m\n\u001B[0m",
      "\u001B[1;31mAttributeError\u001B[0m: 'int' object has no attribute 'dtype'"
     ]
    }
   ],
   "execution_count": 11
  },
  {
   "metadata": {},
   "cell_type": "code",
   "outputs": [],
   "execution_count": null,
   "source": "",
   "id": "5e63c96d4b153a19"
  }
 ],
 "metadata": {
  "kernelspec": {
   "display_name": "Python 3",
   "language": "python",
   "name": "python3"
  },
  "language_info": {
   "codemirror_mode": {
    "name": "ipython",
    "version": 2
   },
   "file_extension": ".py",
   "mimetype": "text/x-python",
   "name": "python",
   "nbconvert_exporter": "python",
   "pygments_lexer": "ipython2",
   "version": "2.7.6"
  }
 },
 "nbformat": 4,
 "nbformat_minor": 5
}
