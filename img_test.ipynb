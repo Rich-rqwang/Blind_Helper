{
 "cells": [
  {
   "cell_type": "code",
   "id": "initial_id",
   "metadata": {
    "collapsed": true,
    "ExecuteTime": {
     "end_time": "2024-12-18T12:03:06.263044Z",
     "start_time": "2024-12-18T12:03:06.250558Z"
    }
   },
   "source": [
    "import cv2\n",
    "from PIL import Image, ImageTk\n",
    "import time\n",
    "import base64\n",
    "import pyttsx3\n",
    "import base64\n",
    "import urllib\n",
    "import requests\n",
    "import os\n",
    "import json\n",
    "def get_access_token(key,scret):\n",
    "    \"\"\"\n",
    "    使用 AK,SK 生成鉴权签名{Access Token)\n",
    "    :return: access_token,或是None(如果错误)\n",
    "    \"\"\"\n",
    "    url = \"https://aip.baidubce.com/oauth/2.0/token\"\n",
    "    params = {\"grant_type\": \"client_credentials\", \"client_id\": key, \"client_secret\": scret}\n",
    "    return str(requests.post(url, params=params).json().get(\"access_token\"))\n",
    " \n",
    "def show_cam_image():\n",
    "    try:\n",
    "        # 尝试打开摄像头\n",
    "        stream = cv2.VideoCapture(0)\n",
    "        \n",
    "        # 检查是否成功打开\n",
    "        if not stream.isOpened():\n",
    "            print(\"未成功打开摄像头\")\n",
    "            return\n",
    " \n",
    "        # 读取一帧图像\n",
    "        ret, frame = stream.read()\n",
    "        \n",
    "        # 如果成功读取帧\n",
    "        if ret:\n",
    " \n",
    "            # 保存图片\n",
    "            image_path = \"./camera.jpeg\"\n",
    "            cv2.imwrite(image_path, frame)\n",
    " \n",
    "            # 将帧从BGR转换为RGB\n",
    "            rgb_frame = cv2.cvtColor(frame, cv2.COLOR_BGR2RGB)\n",
    " \n",
    "            # 将帧编码为JPEG格式\n",
    "            jpeg_frame = cv2.imencode('.jpg', rgb_frame)[1]\n",
    " \n",
    "            # 将JPEG格式的帧转换为Base64编码\n",
    "            base64_encoded_frame = base64.b64encode(jpeg_frame).decode('utf-8')\n",
    " \n",
    "            return base64_encoded_frame\n",
    "        else:\n",
    "            print(\"未能读取到图像帧\")\n",
    "    \n",
    "    except Exception as e:\n",
    "        print(f\"摄像头操作出错：{e}\")\n",
    "    finally:\n",
    "        # 确保释放摄像头资源\n",
    "        stream.release()\n",
    " \n",
    "def ask_to_question():\n",
    "    url_1 = \"https://aip.baidubce.com/rest/2.0/image-classify/v1/image-understanding/request?access_token=24.94c61bfbba3a02d7ebce8aa13c292e03.2592000.1736994196.282335-116707290\" \n",
    "    #本地图像\n",
    "    # image_data = get_file_content_as_base64(\"/home/lxj/chat/水果.jpeg\")\n",
    "    #相机图像\n",
    "    image_data = show_cam_image()\n",
    " \n",
    "    payload = json.dumps({\n",
    "        \"image\": image_data,\n",
    "        \"question\": \"图像中有什么\",\n",
    "        \"output_CHN\": True\n",
    "    })\n",
    "    headers = {\n",
    "        'Content-Type': 'application/json'\n",
    "    }\n",
    "    \n",
    "    response = requests.request(\"POST\", url_1, headers=headers, data=payload)\n",
    "    response_json = response.json()  # 将响应文本解析为JSON对象\n",
    "    result = response_json.get(\"result\")['task_id'] # 提取result字段,'task_id'里面的值\n",
    " \n",
    "    return result"
   ],
   "outputs": [],
   "execution_count": 9
  },
  {
   "metadata": {
    "ExecuteTime": {
     "end_time": "2024-12-18T12:03:11.753242Z",
     "start_time": "2024-12-18T12:03:06.384933Z"
    }
   },
   "cell_type": "code",
   "source": "ask_to_question()",
   "id": "e409fd8d0f741f89",
   "outputs": [
    {
     "data": {
      "text/plain": [
       "'1869352704364691115'"
      ]
     },
     "execution_count": 10,
     "metadata": {},
     "output_type": "execute_result"
    }
   ],
   "execution_count": 10
  },
  {
   "metadata": {
    "ExecuteTime": {
     "end_time": "2024-12-18T12:03:23.860348Z",
     "start_time": "2024-12-18T12:03:23.850301Z"
    }
   },
   "cell_type": "code",
   "source": [
    "def get_result():\n",
    "# 构建URL\n",
    "        url_2 = \"https://aip.baidubce.com/rest/2.0/image-classify/v1/image-understanding/get-result?access_token=24.94c61bfbba3a02d7ebce8aa13c292e03.2592000.1736994196.282335-116707290\"\n",
    "        # 构建payload，使用提取到的task_id\n",
    "        payload = json.dumps({\n",
    "            \"task_id\": \"1869352704364691115\"\n",
    "        })\n",
    "        headers = {\n",
    "            'Content-Type': 'application/json'\n",
    "        }\n",
    "        \n",
    "        response = requests.request(\"POST\", url_2, headers=headers, data=payload)\n",
    "        response_json = response.json()  # 将响应文本解析为JSON对象\n",
    " \n",
    "        # 提取字段的值\n",
    "        subject_result = response_json.get('result', {}).get('subject_result', [])\n",
    "        description = response_json.get('result', {}).get('description', [])\n",
    "        # 打印提取的结果\n",
    "        print(subject_result)\n",
    "        print(\"图片描述:\", description)"
   ],
   "id": "1b0088221f74804",
   "outputs": [],
   "execution_count": 11
  },
  {
   "metadata": {
    "ExecuteTime": {
     "end_time": "2024-12-18T12:03:25.873221Z",
     "start_time": "2024-12-18T12:03:25.138783Z"
    }
   },
   "cell_type": "code",
   "source": "get_result()",
   "id": "3fc8a1800ddfe662",
   "outputs": [
    {
     "name": "stdout",
     "output_type": "stream",
     "text": [
      "[]\n",
      "图片描述: 图像中有一位戴着眼镜的年轻人，他穿着紫色T恤，正坐在一个充满生活气息的房间里。房间内挂满了各式各样的衣物，墙上还装饰着一幅画，为整个空间增添了几分艺术氛围。\n"
     ]
    }
   ],
   "execution_count": 12
  },
  {
   "metadata": {
    "ExecuteTime": {
     "end_time": "2024-12-17T02:37:39.206327Z",
     "start_time": "2024-12-17T02:37:39.203325Z"
    }
   },
   "cell_type": "code",
   "source": "#### 上传图片\n",
   "id": "a43126140e46abde",
   "outputs": [],
   "execution_count": 8
  },
  {
   "metadata": {
    "ExecuteTime": {
     "end_time": "2024-12-17T03:15:03.816027Z",
     "start_time": "2024-12-17T03:15:03.802932Z"
    }
   },
   "cell_type": "code",
   "source": [
    "\n",
    "def process_image(image_path):\n",
    "    \"\"\"\n",
    "    处理上传的图片文件。\n",
    "    :param image_path: 图片文件路径\n",
    "    :return: base64编码的图片\n",
    "    \"\"\"\n",
    "    frame = cv2.imread(image_path)\n",
    "    if frame is not None:\n",
    "        rgb_frame = cv2.cvtColor(frame, cv2.COLOR_BGR2RGB)\n",
    "        jpeg_frame = cv2.imencode('.jpg', rgb_frame)[1]\n",
    "        base64_encoded_frame = base64.b64encode(jpeg_frame).decode('utf-8')\n",
    "        return base64_encoded_frame\n",
    "    else:\n",
    "        print(\"未能读取到图像\")\n",
    "        return None\n",
    "    \n",
    "def ask_to_question():\n",
    "    url_1 = \"https://aip.baidubce.com/rest/2.0/image-classify/v1/image-understanding/request?access_token=24.94c61bfbba3a02d7ebce8aa13c292e03.2592000.1736994196.282335-116707290\" \n",
    "    #本地图像\n",
    "    # image_data = get_file_content_as_base64(\"/home/lxj/chat/水果.jpeg\")\n",
    "    #相机图像\n",
    "    image_data = process_image(image_path = r\"./a.jpg\")\n",
    " \n",
    "    payload = json.dumps({\n",
    "        \"image\": image_data,\n",
    "        \"question\": \"图像中有什么\",\n",
    "        \"output_CHN\": True\n",
    "    })\n",
    "    headers = {\n",
    "        'Content-Type': 'application/json'\n",
    "    }\n",
    "    \n",
    "    response = requests.request(\"POST\", url_1, headers=headers, data=payload)\n",
    "    response_json = response.json()  # 将响应文本解析为JSON对象\n",
    "    result = response_json.get(\"result\")['task_id'] # 提取result字段,'task_id'里面的值\n",
    " \n",
    "    return result"
   ],
   "id": "f1d22560eaa5e55e",
   "outputs": [],
   "execution_count": 18
  },
  {
   "metadata": {
    "ExecuteTime": {
     "end_time": "2024-12-17T03:15:07.658089Z",
     "start_time": "2024-12-17T03:15:05.682383Z"
    }
   },
   "cell_type": "code",
   "source": "ask_to_question()",
   "id": "a1fdc28d2b2b8cd6",
   "outputs": [
    {
     "data": {
      "text/plain": [
       "'1868857425016184025'"
      ]
     },
     "execution_count": 19,
     "metadata": {},
     "output_type": "execute_result"
    }
   ],
   "execution_count": 19
  },
  {
   "metadata": {
    "ExecuteTime": {
     "end_time": "2024-12-17T02:41:39.029637Z",
     "start_time": "2024-12-17T02:41:39.022126Z"
    }
   },
   "cell_type": "code",
   "source": "get_result()",
   "id": "b7e6da59377a92d2",
   "outputs": [
    {
     "ename": "TypeError",
     "evalue": "get_result() takes 0 positional arguments but 1 was given",
     "output_type": "error",
     "traceback": [
      "\u001B[1;31m---------------------------------------------------------------------------\u001B[0m",
      "\u001B[1;31mTypeError\u001B[0m                                 Traceback (most recent call last)",
      "\u001B[1;32m<ipython-input-15-bc4e86130cfe>\u001B[0m in \u001B[0;36m<module>\u001B[1;34m\u001B[0m\n\u001B[1;32m----> 1\u001B[1;33m \u001B[0mget_result\u001B[0m\u001B[1;33m(\u001B[0m\u001B[1;36m1868848941565147510\u001B[0m\u001B[1;33m)\u001B[0m\u001B[1;33m\u001B[0m\u001B[1;33m\u001B[0m\u001B[0m\n\u001B[0m",
      "\u001B[1;31mTypeError\u001B[0m: get_result() takes 0 positional arguments but 1 was given"
     ]
    }
   ],
   "execution_count": 15
  },
  {
   "metadata": {
    "ExecuteTime": {
     "end_time": "2024-12-17T04:18:35.262226Z",
     "start_time": "2024-12-17T04:18:33.789390Z"
    }
   },
   "cell_type": "code",
   "source": "",
   "id": "21a5f654fd22bf5b",
   "outputs": [
    {
     "name": "stdout",
     "output_type": "stream",
     "text": [
      "[]\n",
      "Image description: []\n"
     ]
    }
   ],
   "execution_count": 26
  },
  {
   "metadata": {
    "ExecuteTime": {
     "end_time": "2024-12-17T04:19:41.875649Z",
     "start_time": "2024-12-17T04:19:39.360456Z"
    }
   },
   "cell_type": "code",
   "source": "",
   "id": "de3ab84eecd8196c",
   "outputs": [
    {
     "name": "stdout",
     "output_type": "stream",
     "text": [
      "API Request Response: {\"error_code\":110,\"error_msg\":\"Access token invalid or no longer valid\"}\n",
      "API Result Response: {\"error_code\":110,\"error_msg\":\"Access token invalid or no longer valid\"}\n",
      "[]\n",
      "Image description: []\n"
     ]
    }
   ],
   "execution_count": 28
  },
  {
   "metadata": {
    "ExecuteTime": {
     "end_time": "2024-12-17T04:21:37.818113Z",
     "start_time": "2024-12-17T04:21:37.801734Z"
    }
   },
   "cell_type": "code",
   "source": "\"1868863281905613007\" == str(1868863281905613007)",
   "id": "160c51bdf4ceacf0",
   "outputs": [
    {
     "data": {
      "text/plain": [
       "True"
      ]
     },
     "execution_count": 29,
     "metadata": {},
     "output_type": "execute_result"
    }
   ],
   "execution_count": 29
  },
  {
   "metadata": {
    "ExecuteTime": {
     "end_time": "2024-12-18T12:27:50.476401Z",
     "start_time": "2024-12-18T12:27:48.127564Z"
    }
   },
   "cell_type": "code",
   "source": [
    "taskid = 1868863281905613007\n",
    "import cv2\n",
    "from PIL import Image, ImageTk\n",
    "import time\n",
    "import base64\n",
    "import pyttsx3\n",
    "import base64\n",
    "import urllib\n",
    "import requests\n",
    "import os\n",
    "import json\n",
    "def get_result(taskid):\n",
    "# 构建URL\n",
    "        url_2 = \"https://aip.baidubce.com/rest/2.0/image-classify/v1/image-understanding/get-result?access_token=24.94c61bfbba3a02d7ebce8aa13c292e03.2592000.1736994196.282335-116707290\"\n",
    "        # 构建payload，使用提取到的task_id\n",
    "        payload = json.dumps({\n",
    "            \"task_id\": str(taskid)\n",
    "        })\n",
    "        headers = {\n",
    "            'Content-Type': 'application/json'\n",
    "        }\n",
    "        \n",
    "        response = requests.request(\"POST\", url_2, headers=headers, data=payload)\n",
    "        response_json = response.json()  # 将响应文本解析为JSON对象\n",
    " \n",
    "        # 提取字段的值\n",
    "        subject_result = response_json.get('result', {}).get('subject_result', [])\n",
    "        description = response_json.get('result', {}).get('description', [])\n",
    "        # 打印提取的结果\n",
    "        print(subject_result)\n",
    "        print(\"图片描述:\", description)\n",
    "get_result(taskid)"
   ],
   "id": "f6ea948b20fc0f7f",
   "outputs": [
    {
     "name": "stdout",
     "output_type": "stream",
     "text": [
      "[]\n",
      "图片描述: 图像中展示了一座现代风格的圆形建筑，外观以白色和灰色为主，设计简洁而富有现代感。建筑前方是一个宽阔的广场，广场上整齐地种植着树木和灌木，绿意盎然。背景的天空呈现出橙黄色调，可能是日出或日落时分，营造出一种温暖宁静的氛围。\n"
     ]
    }
   ],
   "execution_count": 14
  },
  {
   "metadata": {},
   "cell_type": "code",
   "outputs": [],
   "execution_count": null,
   "source": "",
   "id": "23c2f4f5e2a98524"
  }
 ],
 "metadata": {
  "kernelspec": {
   "display_name": "Python 3",
   "language": "python",
   "name": "python3"
  },
  "language_info": {
   "codemirror_mode": {
    "name": "ipython",
    "version": 2
   },
   "file_extension": ".py",
   "mimetype": "text/x-python",
   "name": "python",
   "nbconvert_exporter": "python",
   "pygments_lexer": "ipython2",
   "version": "2.7.6"
  }
 },
 "nbformat": 4,
 "nbformat_minor": 5
}
